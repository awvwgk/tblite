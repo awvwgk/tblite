{
 "cells": [
  {
   "cell_type": "markdown",
   "metadata": {},
   "source": [
    "Geometry optimizations in Python\n",
    "================================\n",
    "\n",
    "The *tblite* Python package allows to run extended tight binding (xTB) calculations directly in Python.\n",
    "This tutorial demonstrates how to set up and run a geometry optimizations using GFN1-xTB.\n",
    "\n",
    "Installing the package\n",
    "----------------------\n",
    "\n",
    "To start create a new Python environment using the mamba package manager.\n",
    "We specify the packages we want to install in our environment file:\n",
    "\n",
    "````yaml\n",
    "name: xtb\n",
    "channels:\n",
    "- conda-forge\n",
    "dependencies:\n",
    "- ipykernel\n",
    "- mdanalysis\n",
    "- nglview\n",
    "- pyberny\n",
    "- tblite-python\n",
    "````\n",
    "\n",
    "Save the file as *environment.yml* and create the environment by running\n",
    "\n",
    "````shell\n",
    "mamba env create -n xtb -f environment.yml\n",
    "mamba activate xtb\n",
    "````\n",
    "\n",
    "This will create a new environment called *xtb* and install all the necessary packages.\n",
    "Make sure that *tblite* is available in your Python environment.\n",
    "You can check this by opening a Python interpreter and importing the package"
   ]
  },
  {
   "cell_type": "code",
   "execution_count": 10,
   "metadata": {},
   "outputs": [
    {
     "data": {
      "text/plain": [
       "(0, 4, 0)"
      ]
     },
     "execution_count": 10,
     "metadata": {},
     "output_type": "execute_result"
    }
   ],
   "source": [
    "import tblite.interface as tb\n",
    "\n",
    "tb.library.get_version()"
   ]
  },
  {
   "cell_type": "markdown",
   "metadata": {},
   "source": [
    "Finding the right optimizer\n",
    "---------------------------\n",
    "\n",
    "The xTB calculator provided in *tblite* itself does not support geometry optimization by itself, but it can be used together with other geometry optimization packages.\n",
    "One example would be the *pyberny* package which provides a general geometry optimization procedure."
   ]
  },
  {
   "cell_type": "code",
   "execution_count": 2,
   "metadata": {},
   "outputs": [
    {
     "name": "stdout",
     "output_type": "stream",
     "text": [
      "Overwriting caffeine.xyz\n"
     ]
    }
   ],
   "source": [
    "%%writefile caffeine.xyz\n",
    "24\n",
    "\n",
    "C            1.07317        0.04885       -0.07573\n",
    "N            2.51365        0.01256       -0.07580\n",
    "C            3.35199        1.09592       -0.07533\n",
    "N            4.61898        0.73028       -0.07549\n",
    "C            4.57907       -0.63144       -0.07531\n",
    "C            3.30131       -1.10256       -0.07524\n",
    "C            2.98068       -2.48687       -0.07377\n",
    "O            1.82530       -2.90038       -0.07577\n",
    "N            4.11440       -3.30433       -0.06936\n",
    "C            5.45174       -2.85618       -0.07235\n",
    "O            6.38934       -3.65965       -0.07232\n",
    "N            5.66240       -1.47682       -0.07487\n",
    "C            7.00947       -0.93648       -0.07524\n",
    "C            3.92063       -4.74093       -0.06158\n",
    "H            0.73398        1.08786       -0.07503\n",
    "H            0.71239       -0.45698        0.82335\n",
    "H            0.71240       -0.45580       -0.97549\n",
    "H            2.99301        2.11762       -0.07478\n",
    "H            7.76531       -1.72634       -0.07591\n",
    "H            7.14864       -0.32182        0.81969\n",
    "H            7.14802       -0.32076       -0.96953\n",
    "H            2.86501       -5.02316       -0.05833\n",
    "H            4.40233       -5.15920        0.82837\n",
    "H            4.40017       -5.16929       -0.94780"
   ]
  },
  {
   "cell_type": "markdown",
   "metadata": {},
   "source": [
    "The optimizer provided by the *pyberny* package acts as an iterator to provide new geometry steps.\n",
    "The geometry can be unpacked by iterating through it.\n",
    "For xTB we need to separate the element symbols and the cartesian coordinates."
   ]
  },
  {
   "cell_type": "code",
   "execution_count": null,
   "metadata": {},
   "outputs": [],
   "source": [
    "import numpy as np\n",
    "from berny import Berny, geomlib, angstrom\n",
    "\n",
    "optimizer = Berny(geomlib.readfile(\"caffeine.xyz\"))\n",
    "geom = next(optimizer)\n",
    "elements = [symbol for symbol, _ in geom]\n",
    "coordinates = np.asarray([coordinate for _, coordinate in geom])"
   ]
  },
  {
   "cell_type": "markdown",
   "metadata": {},
   "source": [
    "To visualize our starting geometry we use MDAnalysis and NGLView.\n",
    "Loading the geometries into an MDAnalysis universe can be done by creating a new empty universe.\n",
    "The atom types can be added as *name* topology attribute and the coordinates can be read by providing the array we just retrieved from the optimizer."
   ]
  },
  {
   "cell_type": "code",
   "execution_count": 8,
   "metadata": {},
   "outputs": [
    {
     "data": {
      "application/vnd.jupyter.widget-view+json": {
       "model_id": "a5b05f9984eb4f58b4fb424af4fc7ead",
       "version_major": 2,
       "version_minor": 0
      },
      "text/plain": [
       "NGLWidget()"
      ]
     },
     "metadata": {},
     "output_type": "display_data"
    }
   ],
   "source": [
    "import MDAnalysis as mda\n",
    "import nglview as nv\n",
    "\n",
    "uni = mda.Universe.empty(len(elements), trajectory=True)\n",
    "uni.add_TopologyAttr(\"name\", elements)\n",
    "uni.load_new(coordinates)\n",
    "\n",
    "nv.show_mdanalysis(uni, gui=True)"
   ]
  },
  {
   "cell_type": "markdown",
   "metadata": {},
   "source": [
    "To run the optimization we do need to compute the energy and forces, for this we will be using xTB via *tblite*.\n",
    "We need to remember that coordinates in *tblite* might use a different unit than our optimizer, in this case *pyberny* uses Angstrom and *tblite* Bohr.\n",
    "With the provided conversion factor we ensure that the coordinates are in the right unit.\n",
    "While the energy unit Hartree is compatible for us, we need to account for the gradient unit, which is Hartree/Angstrom and convert the gradient accordingly."
   ]
  },
  {
   "cell_type": "code",
   "execution_count": null,
   "metadata": {},
   "outputs": [
    {
     "name": "stdout",
     "output_type": "stream",
     "text": [
      "------------------------------------------------------------\n",
      "  cycle        total energy    energy error   density error\n",
      "------------------------------------------------------------\n",
      "      1     -41.75162462815  -4.2243950E+01   1.9479957E-01\n",
      "      2     -42.11867876399  -3.6705414E-01   7.5972202E-02\n",
      "      3     -42.14180557575  -2.3126812E-02   4.6343403E-02\n",
      "      4     -42.14537345302  -3.5678773E-03   1.2550676E-02\n",
      "      5     -42.14691416500  -1.5407120E-03   6.1305239E-03\n",
      "      6     -42.14742063310  -5.0646810E-04   2.4358092E-03\n",
      "      7     -42.14744770814  -2.7075046E-05   1.0726515E-03\n",
      "      8     -42.14746243612  -1.4727977E-05   3.6117557E-04\n",
      "      9     -42.14746301473  -5.7861259E-07   1.6698189E-04\n",
      "     10     -42.14746312030  -1.0556378E-07   5.4777956E-05\n",
      "     11     -42.14746315750  -3.7209666E-08   2.5307046E-05\n",
      "     12     -42.14746315860  -1.0997780E-09   8.2333730E-06\n",
      "------------------------------------------------------------\n",
      "\n",
      " total:                                   2.084 sec\n"
     ]
    }
   ],
   "source": [
    "xtb = tb.Calculator(\"GFN2-xTB\", tb.symbols_to_numbers(elements), coordinates * angstrom)\n",
    "results = xtb.singlepoint()\n",
    "\n",
    "optimizer.send((results.get(\"energy\"), results.get(\"gradient\") / angstrom))"
   ]
  },
  {
   "cell_type": "markdown",
   "metadata": {},
   "source": [
    "To run a full optimization we can use the optimizer in a loop retrieve the new coordinates.\n",
    "From there we can update our xTB calculator with the new positions, evaluate the energy and gradient to pass them back to the optimizer."
   ]
  },
  {
   "cell_type": "code",
   "execution_count": null,
   "metadata": {},
   "outputs": [],
   "source": [
    "for geom in optimizer:\n",
    "    coordinates = np.asarray([coordinate for _, coordinate in geom])\n",
    "    xtb.update(positions=coordinates * angstrom)\n",
    "    results = xtb.singlepoint(results)\n",
    "    optimizer.send((results.get(\"energy\"), results.get(\"gradient\") / angstrom))"
   ]
  },
  {
   "cell_type": "markdown",
   "metadata": {},
   "source": [
    "In this process we can record the energy, gradient as well as coordinates to store them for MDAnalysis to visualize the optimization progress and geometry change."
   ]
  }
 ],
 "metadata": {
  "kernelspec": {
   "display_name": "xtb",
   "language": "python",
   "name": "python3"
  },
  "language_info": {
   "codemirror_mode": {
    "name": "ipython",
    "version": 3
   },
   "file_extension": ".py",
   "mimetype": "text/x-python",
   "name": "python",
   "nbconvert_exporter": "python",
   "pygments_lexer": "ipython3",
   "version": "3.13.2"
  }
 },
 "nbformat": 4,
 "nbformat_minor": 2
}
